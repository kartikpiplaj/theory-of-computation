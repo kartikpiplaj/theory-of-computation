{
 "cells": [
  {
   "cell_type": "code",
   "execution_count": 1,
   "metadata": {},
   "outputs": [
    {
     "name": "stdout",
     "output_type": "stream",
     "text": [
      "1 push \t 2 pop \t 3 size \t 4 print \t 5 stop\n"
     ]
    },
    {
     "name": "stdin",
     "output_type": "stream",
     "text": [
      "enter something 1\n",
      "enter number to push 2\n"
     ]
    },
    {
     "name": "stdout",
     "output_type": "stream",
     "text": [
      "1 push \t 2 pop \t 3 size \t 4 print \t 5 stop\n"
     ]
    },
    {
     "name": "stdin",
     "output_type": "stream",
     "text": [
      "enter something 1\n",
      "enter number to push 5\n"
     ]
    },
    {
     "name": "stdout",
     "output_type": "stream",
     "text": [
      "1 push \t 2 pop \t 3 size \t 4 print \t 5 stop\n"
     ]
    },
    {
     "name": "stdin",
     "output_type": "stream",
     "text": [
      "enter something 1\n",
      "enter number to push 8\n"
     ]
    },
    {
     "name": "stdout",
     "output_type": "stream",
     "text": [
      "1 push \t 2 pop \t 3 size \t 4 print \t 5 stop\n"
     ]
    },
    {
     "name": "stdin",
     "output_type": "stream",
     "text": [
      "enter something 2\n"
     ]
    },
    {
     "name": "stdout",
     "output_type": "stream",
     "text": [
      "1 push \t 2 pop \t 3 size \t 4 print \t 5 stop\n"
     ]
    },
    {
     "name": "stdin",
     "output_type": "stream",
     "text": [
      "enter something 4\n"
     ]
    },
    {
     "name": "stdout",
     "output_type": "stream",
     "text": [
      "[2, 5]\n",
      "1 push \t 2 pop \t 3 size \t 4 print \t 5 stop\n"
     ]
    },
    {
     "name": "stdin",
     "output_type": "stream",
     "text": [
      "enter something 5\n"
     ]
    }
   ],
   "source": [
    "\n",
    "class stack:\n",
    "    def __init__(s):\n",
    "        s.a=[]\n",
    "    def push(self,x):\n",
    "        self.a.append(x)\n",
    "    def pop(self):\n",
    "        self.a.pop()\n",
    "    def size(self):\n",
    "        print(len(self.a))\n",
    "    def print(self):\n",
    "        print(self.a)\n",
    "o=stack()\n",
    "while 1:\n",
    "    print(\"1 push \\t 2 pop \\t 3 size \\t 4 print \\t 5 stop\")\n",
    "    n=int(input(\"enter something\"))\n",
    "    if n==1:\n",
    "        x=int(input(\"enter number to push\"))\n",
    "        o.push(x)\n",
    "    elif n==2:\n",
    "        o.pop()\n",
    "    elif n==3:\n",
    "        o.size()\n",
    "    elif n==4:\n",
    "        o.print()\n",
    "    elif n==5:\n",
    "        break"
   ]
  },
  {
   "cell_type": "code",
   "execution_count": null,
   "metadata": {},
   "outputs": [],
   "source": []
  }
 ],
 "metadata": {
  "kernelspec": {
   "display_name": "Python 3",
   "language": "python",
   "name": "python3"
  },
  "language_info": {
   "codemirror_mode": {
    "name": "ipython",
    "version": 3
   },
   "file_extension": ".py",
   "mimetype": "text/x-python",
   "name": "python",
   "nbconvert_exporter": "python",
   "pygments_lexer": "ipython3",
   "version": "3.7.3"
  }
 },
 "nbformat": 4,
 "nbformat_minor": 4
}
