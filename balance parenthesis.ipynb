{
 "cells": [
  {
   "cell_type": "code",
   "execution_count": 1,
   "metadata": {},
   "outputs": [
    {
     "name": "stdin",
     "output_type": "stream",
     "text": [
      " ]{}[\n"
     ]
    },
    {
     "name": "stdout",
     "output_type": "stream",
     "text": [
      "False\n"
     ]
    }
   ],
   "source": [
    "class Stack:\n",
    "    def __init__(s):\n",
    "        s.a=[]\n",
    "    def push(s,x):\n",
    "        s.a.append(x)\n",
    "    def pop(s):\n",
    "        return s.a.pop()\n",
    "    def isempty(s):\n",
    "        return len(s.a)==0\n",
    "    def size(s):\n",
    "        return len(s.a)\n",
    "\n",
    "def bal(s):\n",
    "    o1=Stack()\n",
    "    o2=Stack()\n",
    "    o3=Stack()\n",
    "    for i in s:\n",
    "        if i==\"(\":\n",
    "            o1.push(1)\n",
    "        elif i==\")\":\n",
    "            if o1.isempty():\n",
    "                return False\n",
    "            o1.pop()\n",
    "        if i==\"{\":\n",
    "            o2.push(1)\n",
    "        elif i==\"}\":\n",
    "            if o2.isempty():\n",
    "                return False\n",
    "            o2.pop()\n",
    "        if i==\"[\":\n",
    "            o3.push(1)\n",
    "        elif i==\"]\":\n",
    "            if o3.isempty():\n",
    "                return False\n",
    "            o3.pop()\n",
    "    return o1.isempty()and o2.isempty() and o3.isempty()\n",
    "\n",
    "s=input()\n",
    "print(bal(s))"
   ]
  },
  {
   "cell_type": "code",
   "execution_count": null,
   "metadata": {},
   "outputs": [],
   "source": []
  }
 ],
 "metadata": {
  "kernelspec": {
   "display_name": "Python 3",
   "language": "python",
   "name": "python3"
  },
  "language_info": {
   "codemirror_mode": {
    "name": "ipython",
    "version": 3
   },
   "file_extension": ".py",
   "mimetype": "text/x-python",
   "name": "python",
   "nbconvert_exporter": "python",
   "pygments_lexer": "ipython3",
   "version": "3.7.3"
  }
 },
 "nbformat": 4,
 "nbformat_minor": 4
}
