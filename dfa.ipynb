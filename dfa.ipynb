{
 "cells": [
  {
   "cell_type": "code",
   "execution_count": 2,
   "metadata": {},
   "outputs": [
    {
     "name": "stdout",
     "output_type": "stream",
     "text": [
      "{'q0': {'1': 'q0', '0': 'q1'}, 'q1': {'0': 'q1', '1': 'q0'}}\n"
     ]
    }
   ],
   "source": [
    "#DFA INITIALIZATION\n",
    "dfa = {\n",
    "    'q0':{\n",
    "            '1':'q0' ,\n",
    "            '0':'q1'},\n",
    "    'q1':{\n",
    "            '0':'q1' , \n",
    "            '1':'q0'}\n",
    "}\n",
    "print(dfa)"
   ]
  },
  {
   "cell_type": "code",
   "execution_count": 3,
   "metadata": {},
   "outputs": [
    {
     "name": "stdin",
     "output_type": "stream",
     "text": [
      "Enter string = 0000\n"
     ]
    },
    {
     "name": "stdout",
     "output_type": "stream",
     "text": [
      "Valid\n"
     ]
    },
    {
     "name": "stdin",
     "output_type": "stream",
     "text": [
      "Enter string = 1111\n"
     ]
    },
    {
     "name": "stdout",
     "output_type": "stream",
     "text": [
      "Invalid\n"
     ]
    },
    {
     "name": "stdin",
     "output_type": "stream",
     "text": [
      "Enter string = 1011\n"
     ]
    },
    {
     "name": "stdout",
     "output_type": "stream",
     "text": [
      "Invalid\n"
     ]
    },
    {
     "name": "stdin",
     "output_type": "stream",
     "text": [
      "Enter string = 1100\n"
     ]
    },
    {
     "name": "stdout",
     "output_type": "stream",
     "text": [
      "Valid\n"
     ]
    },
    {
     "name": "stdin",
     "output_type": "stream",
     "text": [
      "Enter string = 1010\n"
     ]
    },
    {
     "name": "stdout",
     "output_type": "stream",
     "text": [
      "Valid\n"
     ]
    }
   ],
   "source": [
    "#DFA\n",
    "dfa = {\n",
    "    'q0':{\n",
    "            '1':'q0' ,\n",
    "            '0':'q1'},\n",
    "    'q1':{\n",
    "            '0':'q1' , \n",
    "            '1':'q0'}\n",
    "}\n",
    "initial_state = 'q0'\n",
    "final_state = {'q1'}\n",
    "for i in range(5):\n",
    "    current_state = initial_state\n",
    "    string=list(input(\"Enter string = \".strip()))\n",
    "    for i in string:\n",
    "        current_state = dfa[current_state][i]\n",
    "    if current_state in final_state:\n",
    "            print('Valid')\n",
    "    else:\n",
    "            print('Invalid')"
   ]
  },
  {
   "cell_type": "code",
   "execution_count": null,
   "metadata": {},
   "outputs": [],
   "source": []
  }
 ],
 "metadata": {
  "kernelspec": {
   "display_name": "Python 3",
   "language": "python",
   "name": "python3"
  },
  "language_info": {
   "codemirror_mode": {
    "name": "ipython",
    "version": 3
   },
   "file_extension": ".py",
   "mimetype": "text/x-python",
   "name": "python",
   "nbconvert_exporter": "python",
   "pygments_lexer": "ipython3",
   "version": "3.7.3"
  }
 },
 "nbformat": 4,
 "nbformat_minor": 4
}
