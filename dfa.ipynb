{
 "cells": [
  {
   "cell_type": "code",
   "execution_count": 2,
   "metadata": {},
   "outputs": [
    {
     "name": "stdout",
     "output_type": "stream",
     "text": [
      "{'q0': {'1': 'q0', '0': 'q1'}, 'q1': {'0': 'q1', '1': 'q0'}}\n"
     ]
    }
   ],
   "source": [
    "#DFA INITIALIZATION\n",
    "dfa = {\n",
    "    'q0':{\n",
    "            '1':'q0' ,\n",
    "            '0':'q1'},\n",
    "    'q1':{\n",
    "            '0':'q1' , \n",
    "            '1':'q0'}\n",
    "}\n",
    "print(dfa)"
   ]
  },
  {
   "cell_type": "code",
   "execution_count": null,
   "metadata": {},
   "outputs": [],
   "source": []
  }
 ],
 "metadata": {
  "kernelspec": {
   "display_name": "Python 3",
   "language": "python",
   "name": "python3"
  },
  "language_info": {
   "codemirror_mode": {
    "name": "ipython",
    "version": 3
   },
   "file_extension": ".py",
   "mimetype": "text/x-python",
   "name": "python",
   "nbconvert_exporter": "python",
   "pygments_lexer": "ipython3",
   "version": "3.7.3"
  }
 },
 "nbformat": 4,
 "nbformat_minor": 4
}
