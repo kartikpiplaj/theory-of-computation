{
 "cells": [
  {
   "cell_type": "code",
   "execution_count": 2,
   "metadata": {},
   "outputs": [
    {
     "name": "stdout",
     "output_type": "stream",
     "text": [
      "Mealy even/odd 1's\n"
     ]
    },
    {
     "name": "stdin",
     "output_type": "stream",
     "text": [
      "Enter string:  0100\n"
     ]
    },
    {
     "name": "stdout",
     "output_type": "stream",
     "text": [
      "q0 on input 0 goes to state q0 gives output even\n",
      "q0 on input 1 goes to state q1 gives output odd\n",
      "q1 on input 0 goes to state q1 gives output odd\n",
      "q1 on input 0 goes to state q1 gives output odd\n",
      "0100 has odd 1's\n"
     ]
    }
   ],
   "source": [
    "mealy={\n",
    "    'q0':{'0':['even','q0'], '1':['odd','q1']},\n",
    "    'q1':{'0':['odd','q1'], '1':['even','q0']}\n",
    "    }\n",
    "print(\"Mealy even/odd 1's\")\n",
    "s=input(\"Enter string: \")\n",
    "x='q0'\n",
    "for i in s:\n",
    "    output=mealy[x][i][0]\n",
    "    print(f\"{x} on input {i} goes to state {mealy[x][i][1]} gives output {output}\")\n",
    "    x=mealy[x][i][1]\n",
    "print(f\"{s} has {output} 1's\")"
   ]
  },
  {
   "cell_type": "code",
   "execution_count": null,
   "metadata": {},
   "outputs": [],
   "source": []
  }
 ],
 "metadata": {
  "kernelspec": {
   "display_name": "Python 3",
   "language": "python",
   "name": "python3"
  },
  "language_info": {
   "codemirror_mode": {
    "name": "ipython",
    "version": 3
   },
   "file_extension": ".py",
   "mimetype": "text/x-python",
   "name": "python",
   "nbconvert_exporter": "python",
   "pygments_lexer": "ipython3",
   "version": "3.7.3"
  }
 },
 "nbformat": 4,
 "nbformat_minor": 4
}
